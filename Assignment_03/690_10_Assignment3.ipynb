{
  "nbformat": 4,
  "nbformat_minor": 0,
  "metadata": {
    "colab": {
      "provenance": [],
      "collapsed_sections": []
    },
    "kernelspec": {
      "name": "python3",
      "display_name": "Python 3"
    },
    "language_info": {
      "name": "python"
    }
  },
  "cells": [
    {
      "cell_type": "markdown",
      "source": [
        "Generating 10x10 Matrix with random digits"
      ],
      "metadata": {
        "id": "E-tblA2DtuWh"
      }
    },
    {
      "cell_type": "code",
      "execution_count": null,
      "metadata": {
        "colab": {
          "base_uri": "https://localhost:8080/"
        },
        "id": "ierHiLmG-tNp",
        "outputId": "8cb824fa-1487-4928-d108-b98cc5a20e66"
      },
      "outputs": [
        {
          "output_type": "stream",
          "name": "stdout",
          "text": [
            "2 4 4 6 2 7 1 1 3 8 \n",
            "2 9 5 9 0 8 3 2 1 2 \n",
            "6 6 7 5 7 5 7 0 0 5 \n",
            "3 4 3 1 5 8 1 7 3 4 \n",
            "0 8 7 0 1 0 0 3 5 3 \n",
            "0 2 4 4 5 6 2 3 4 3 \n",
            "6 1 0 3 7 0 9 2 6 1 \n",
            "4 6 8 7 3 2 0 8 2 3 \n",
            "3 7 0 5 8 4 1 8 2 9 \n",
            "0 0 9 7 5 0 2 2 2 6 \n"
          ]
        }
      ],
      "source": [
        "import random \n",
        "SIZE = 10\n",
        "randomn_numbers = []\n",
        "for i in range(SIZE):                               # i represents row\n",
        "  for j in range(SIZE):                             # j represents a no. in a row\n",
        "    print(random.randint(0,9), end=\" \")              #generating random numbers (numbers can be any digits from 0 to 9)\n",
        "  print(\"\")"
      ]
    },
    {
      "cell_type": "markdown",
      "source": [
        "Replacing Odd Numbers in the matrix with '@'"
      ],
      "metadata": {
        "id": "rLnx_-CWbvYC"
      }
    },
    {
      "cell_type": "code",
      "source": [
        "import random\n",
        "SIZE = 10\n",
        "randomn_numbers = []\n",
        "for i in range(SIZE):                                                 # i represents row\n",
        "  for j in range(SIZE):                                               # j represents a number in a row\n",
        "    a=random.randint(0,9)                                             # generating random numbers (numbers can be any digits from 0 to 9)\n",
        "    if a%2 !=0 :                                                      # condition to check for odd numbers\n",
        "        print(\"@\", end = \" \")\n",
        "    else:\n",
        "        print(a, end=\" \")\n",
        "  print(\"\")"
      ],
      "metadata": {
        "id": "YdU-cLUWAWLo",
        "colab": {
          "base_uri": "https://localhost:8080/"
        },
        "outputId": "fe589f63-1bef-4b8c-9aaf-5303b55347e6"
      },
      "execution_count": null,
      "outputs": [
        {
          "output_type": "stream",
          "name": "stdout",
          "text": [
            "2 @ @ 0 4 @ 6 2 @ 8 \n",
            "2 @ 8 6 @ @ 6 @ 6 @ \n",
            "@ 6 8 @ 2 @ @ @ 2 8 \n",
            "@ 6 @ @ 6 @ @ @ @ @ \n",
            "8 @ @ 4 8 0 6 6 0 2 \n",
            "@ @ @ @ @ @ @ @ 0 @ \n",
            "@ 2 0 @ @ 2 @ 0 4 2 \n",
            "0 @ @ @ 0 8 6 @ @ @ \n",
            "@ 0 2 2 4 2 @ 8 @ 6 \n",
            "@ 0 6 2 @ 6 @ @ @ @ \n"
          ]
        }
      ]
    },
    {
      "cell_type": "markdown",
      "source": [
        "Sum of each row of the matrix"
      ],
      "metadata": {
        "id": "nnJ4SeNKw4kn"
      }
    },
    {
      "cell_type": "code",
      "source": [
        "import random\n",
        "random_numbers=[]\n",
        "SIZE =10\n",
        "sum=0\n",
        "for i in range(SIZE):                                      # i represents row\n",
        "  for j in range(SIZE):                                    # j represents a number in a row\n",
        "    a = random.randint(0,9)                                # generating random numbers (numbers can be any digits from 0 to 9)\n",
        "    sum = sum + a                                          #storing the sum of all the digits in a row to variable \"sum\"\n",
        "    print(a, end =' ')\n",
        "  print('*', end =' ')                                     #printing asterisk \n",
        "  print(sum , end =' ')                                    #printing respective sum of the rows\n",
        "  print(\"\")\n",
        "  sum=0"
      ],
      "metadata": {
        "colab": {
          "base_uri": "https://localhost:8080/"
        },
        "id": "75z1Bw7Jm1-0",
        "outputId": "fd12eb18-2273-47a7-844a-554c88d28ecf"
      },
      "execution_count": null,
      "outputs": [
        {
          "output_type": "stream",
          "name": "stdout",
          "text": [
            "3 3 5 4 8 7 5 0 3 9 * 47 \n",
            "3 1 5 7 5 6 9 7 2 5 * 50 \n",
            "7 8 8 1 9 0 3 2 0 0 * 38 \n",
            "4 2 7 5 2 2 9 7 8 4 * 50 \n",
            "3 1 6 3 9 4 4 5 5 2 * 42 \n",
            "0 5 7 1 1 4 6 2 6 1 * 33 \n",
            "9 4 4 1 3 6 6 1 9 0 * 43 \n",
            "0 0 3 4 3 3 6 7 9 7 * 42 \n",
            "7 7 7 3 8 5 9 5 0 4 * 55 \n",
            "3 1 4 0 0 5 5 6 2 2 * 28 \n"
          ]
        }
      ]
    },
    {
      "cell_type": "markdown",
      "source": [
        "Adding asterisk at top, bottom, left and right side of the matrix"
      ],
      "metadata": {
        "id": "ak-IosfqxFyu"
      }
    },
    {
      "cell_type": "code",
      "source": [
        "import random\n",
        "SIZE =10\n",
        "print('*********************')                  # printing the top row of asterisk\n",
        "for i in range(SIZE):                           # i represents rows\n",
        "  print('*', end =' ')                          # printing the left side row of asterisk\n",
        "  for j in range(SIZE):                         # j represents a no. in a row\n",
        "    a = random.randint(0,9)                     # generating random numbers (numbers can be any digits from 0 to 9)\n",
        "    print(a, end =' ')\n",
        "  print('*', end =' ')                          # printing the right side row of asterisk\n",
        "  print(\"\")\n",
        "print('*********************')                  # printing the bottom row of asterisk"
      ],
      "metadata": {
        "colab": {
          "base_uri": "https://localhost:8080/"
        },
        "id": "98z6AQATm_KF",
        "outputId": "5d4c40e1-e720-4cd4-d991-863262a1009d"
      },
      "execution_count": null,
      "outputs": [
        {
          "output_type": "stream",
          "name": "stdout",
          "text": [
            "*********************\n",
            "* 2 0 8 1 8 4 5 5 4 7 * \n",
            "* 4 2 4 5 3 0 2 6 6 2 * \n",
            "* 2 9 6 7 2 5 6 4 8 6 * \n",
            "* 7 4 8 3 6 3 8 5 0 3 * \n",
            "* 9 1 9 0 1 0 3 3 6 8 * \n",
            "* 9 4 2 0 5 0 8 2 5 0 * \n",
            "* 5 9 7 1 6 9 7 5 2 4 * \n",
            "* 9 3 7 1 2 2 4 5 0 3 * \n",
            "* 3 1 5 0 1 6 8 8 1 6 * \n",
            "* 2 3 3 7 9 6 7 6 5 6 * \n",
            "*********************\n"
          ]
        }
      ]
    },
    {
      "cell_type": "markdown",
      "source": [
        "Sum of each row and each column of the matrix"
      ],
      "metadata": {
        "id": "uo3RqQOOxbS-"
      }
    },
    {
      "cell_type": "code",
      "source": [
        "import random\n",
        "SIZE = 10\n",
        "randomn_numbers = []\n",
        "sum=0\n",
        "list=[]\n",
        "superlist=[]\n",
        "for i in range(SIZE):                          # i represents row\n",
        "  for j in range(SIZE):                        # j represents a number in a row\n",
        "    a=random.randint(0,9)                      # generating random numbers (numbers can be any digits from 0 to 9)\n",
        "    list.append(a)                             #values added to list\n",
        "    sum = sum + a                              #storing the sum of all the digits in a row to variable \"sum\"\n",
        "    print(a, end =' ')\n",
        "    print (a, end =' ')\n",
        "  print ('*', end =' ')\n",
        "  print (sum, end =' ')\n",
        "  print(\"\")\n",
        "  sum=0  \n",
        "    \n",
        "  superlist.append(list)\n",
        "# --------------------------------------------Calculating sum of columns---------------------------\n",
        "sum1=0\n",
        "sum2=0\n",
        "sum3=0\n",
        "sum4=0\n",
        "sum5=0\n",
        "sum6=0\n",
        "sum7=0\n",
        "sum8=0\n",
        "sum9=0\n",
        "sum10=0\n",
        "\n",
        "for k in range(100):                                                  # going through all 100 values in  list\n",
        "    if k%10 == 0:\n",
        "        sum10 = sum10+ list[k]                                        # adding values in column 0\n",
        "    if k%10 == 1:\n",
        "        sum1 = sum1+ list[k]                                          # adding values in column 1\n",
        "    if k%10 == 2:\n",
        "        sum2 = sum2+ list[k]\n",
        "    if k%10 == 3:\n",
        "        sum3 = sum3+ list[k]\n",
        "    if k%10 == 4:\n",
        "        sum4 = sum4+ list[k]\n",
        "    if k%10 == 5:\n",
        "        sum5 = sum5+ list[k]\n",
        "    if k%10 == 6:\n",
        "        sum6 = sum6+ list[k]\n",
        "    if k%10 == 7:\n",
        "        sum7 = sum7+ list[k]    \n",
        "    if k%10 == 8:\n",
        "        sum8 = sum8+ list[k] \n",
        "    if k%10 == 9:\n",
        "        sum9 = sum9+ list[k] \n",
        "  \n",
        "        \n",
        "print (\"* \" \"* \" \"* \" \"* \" \"* \" \"* \" \"* \" \"* \" \"* \" \"* \" )           # printing the bottom asterisk row\n",
        "print (sum10,sum1,sum2,sum3,sum4,sum5,sum6,sum7,sum8,sum9)           # printing sum for all the columns"
      ],
      "metadata": {
        "colab": {
          "base_uri": "https://localhost:8080/"
        },
        "id": "NHJ9EciMS5p1",
        "outputId": "036ba706-f839-4c18-9778-a56606ae1de2"
      },
      "execution_count": null,
      "outputs": [
        {
          "output_type": "stream",
          "name": "stdout",
          "text": [
            "1 1 7 4 5 0 3 0 3 2 * 26 \n",
            "2 1 0 5 2 6 6 6 8 3 * 39 \n",
            "9 9 1 6 0 3 6 4 5 2 * 45 \n",
            "8 9 0 7 7 3 6 2 1 2 * 45 \n",
            "7 3 7 0 6 5 0 0 9 3 * 40 \n",
            "2 2 7 4 6 7 6 6 1 3 * 44 \n",
            "2 3 6 3 0 3 4 5 8 8 * 42 \n",
            "0 1 7 4 5 3 4 5 7 5 * 41 \n",
            "4 7 0 8 7 6 8 4 6 3 * 53 \n",
            "3 0 9 4 3 1 5 8 8 1 * 42 \n",
            "* * * * * * * * * * \n",
            "38 36 44 45 41 37 48 40 56 32\n"
          ]
        }
      ]
    }
  ]
}