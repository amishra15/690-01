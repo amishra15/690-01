{
  "nbformat": 4,
  "nbformat_minor": 0,
  "metadata": {
    "colab": {
      "provenance": [],
      "collapsed_sections": []
    },
    "kernelspec": {
      "name": "python3",
      "display_name": "Python 3"
    },
    "language_info": {
      "name": "python"
    }
  },
  "cells": [
    {
      "cell_type": "markdown",
      "source": [
        "Generating 10x10 Matrix with random digits"
      ],
      "metadata": {
        "id": "E-tblA2DtuWh"
      }
    },
    {
      "cell_type": "code",
      "execution_count": 17,
      "metadata": {
        "colab": {
          "base_uri": "https://localhost:8080/"
        },
        "id": "ierHiLmG-tNp",
        "outputId": "9bea6cf9-b8cf-463f-e818-964e0b2ea9ab"
      },
      "outputs": [
        {
          "output_type": "stream",
          "name": "stdout",
          "text": [
            "6 0 7 2 9 0 8 2 5 9 \n",
            "2 5 5 5 0 0 7 0 5 9 \n",
            "7 8 2 3 1 0 6 3 0 8 \n",
            "0 2 2 9 2 9 8 7 8 8 \n",
            "5 3 4 6 6 0 6 4 8 3 \n",
            "9 9 0 3 1 2 8 3 4 5 \n",
            "9 0 5 4 4 5 5 1 8 2 \n",
            "7 3 7 9 7 8 1 8 4 3 \n",
            "1 4 8 3 0 1 9 6 1 9 \n",
            "9 0 5 2 6 9 6 0 9 1 \n"
          ]
        }
      ],
      "source": [
        "import random \n",
        "SIZE = 10\n",
        "for i in range(SIZE):                               # i represents row\n",
        "  for j in range(SIZE):                             # j represents a no. in a row\n",
        "    print(random.randint(0,9), end=\" \")             # generating random numbers (numbers can be any digits from 0 to 9)\n",
        "  print(\"\")"
      ]
    },
    {
      "cell_type": "markdown",
      "source": [
        "Replacing Odd Numbers in the matrix with '@'"
      ],
      "metadata": {
        "id": "rLnx_-CWbvYC"
      }
    },
    {
      "cell_type": "code",
      "source": [
        "import random\n",
        "SIZE = 10\n",
        "for i in range(SIZE):                                                 # i represents row\n",
        "  for j in range(SIZE):                                               # j represents a number in a row\n",
        "    a=random.randint(0,9)                                             # generating random numbers (numbers can be any digits from 0 to 9)\n",
        "    if a%2 !=0 :                                                      # condition to check for odd numbers\n",
        "        print(\"@\", end = \" \")\n",
        "    else:\n",
        "        print(a, end=\" \")\n",
        "  print(\"\")"
      ],
      "metadata": {
        "id": "YdU-cLUWAWLo",
        "colab": {
          "base_uri": "https://localhost:8080/"
        },
        "outputId": "023042a4-0b6b-4f2c-afce-c83058e945fb"
      },
      "execution_count": 19,
      "outputs": [
        {
          "output_type": "stream",
          "name": "stdout",
          "text": [
            "4 8 @ 4 @ @ @ @ 6 4 \n",
            "4 8 @ @ @ @ @ @ 0 2 \n",
            "@ @ 2 @ 2 8 8 @ @ 2 \n",
            "@ 4 @ @ @ 0 @ 2 2 @ \n",
            "0 0 0 @ @ @ 0 @ 0 0 \n",
            "6 @ @ @ 2 @ @ 8 0 @ \n",
            "@ @ @ @ @ 0 0 4 @ @ \n",
            "8 @ 6 @ @ 0 @ @ 2 0 \n",
            "@ @ 6 @ @ 4 4 @ @ 6 \n",
            "@ @ @ 2 @ 0 @ 0 @ 4 \n"
          ]
        }
      ]
    },
    {
      "cell_type": "markdown",
      "source": [
        "Sum of each row of the matrix"
      ],
      "metadata": {
        "id": "nnJ4SeNKw4kn"
      }
    },
    {
      "cell_type": "code",
      "source": [
        "import random\n",
        "SIZE =10\n",
        "sum=0\n",
        "for i in range(SIZE):                                      # i represents row\n",
        "  for j in range(SIZE):                                    # j represents a number in a row\n",
        "    a = random.randint(0,9)                                # generating random numbers (numbers can be any digits from 0 to 9)\n",
        "    sum = sum + a                                          # storing the sum of all the digits in a row to variable \"sum\"\n",
        "    print(a, end =' ')\n",
        "  print('*', end =' ')                                     # printing asterisk \n",
        "  print(sum , end =' ')                                    # printing respective sum of the rows\n",
        "  print(\"\")\n",
        "  sum=0"
      ],
      "metadata": {
        "colab": {
          "base_uri": "https://localhost:8080/"
        },
        "id": "75z1Bw7Jm1-0",
        "outputId": "5673b7b4-1138-4b1a-ca64-1fd97631ada7"
      },
      "execution_count": 20,
      "outputs": [
        {
          "output_type": "stream",
          "name": "stdout",
          "text": [
            "2 4 4 1 5 3 5 7 0 1 * 32 \n",
            "2 4 0 5 4 0 2 0 6 8 * 31 \n",
            "1 6 1 3 4 3 3 8 5 9 * 43 \n",
            "6 2 1 4 0 5 7 0 7 9 * 41 \n",
            "4 8 1 6 2 5 8 9 6 1 * 50 \n",
            "0 6 1 3 3 7 3 9 8 4 * 44 \n",
            "1 6 6 2 7 6 2 1 6 8 * 45 \n",
            "9 0 6 8 8 5 0 4 9 4 * 53 \n",
            "0 5 3 6 9 0 4 6 6 4 * 43 \n",
            "9 4 8 2 6 9 1 9 3 6 * 57 \n"
          ]
        }
      ]
    },
    {
      "cell_type": "markdown",
      "source": [
        "Adding asterisk at top, bottom, left and right side of the matrix"
      ],
      "metadata": {
        "id": "ak-IosfqxFyu"
      }
    },
    {
      "cell_type": "code",
      "source": [
        "import random\n",
        "SIZE =10\n",
        "print('***********************')                  # printing the top row of asterisk\n",
        "for i in range(SIZE):                           # i represents rows\n",
        "  print('*', end =' ')                          # printing the left side row of asterisk\n",
        "  for j in range(SIZE):                         # j represents a no. in a row\n",
        "    a = random.randint(0,9)                     # generating random numbers (numbers can be any digits from 0 to 9)\n",
        "    print(a, end =' ')\n",
        "  print('*', end =' ')                          # printing the right side row of asterisk\n",
        "  print(\"\")\n",
        "print('***********************')                  # printing the bottom row of asterisk"
      ],
      "metadata": {
        "colab": {
          "base_uri": "https://localhost:8080/"
        },
        "id": "98z6AQATm_KF",
        "outputId": "3f28dd3a-08bf-4246-ba5f-02a7c9596629"
      },
      "execution_count": 25,
      "outputs": [
        {
          "output_type": "stream",
          "name": "stdout",
          "text": [
            "***********************\n",
            "* 7 0 4 6 5 4 2 6 0 4 * \n",
            "* 1 9 5 5 8 7 1 0 6 5 * \n",
            "* 9 2 4 8 5 7 8 7 7 0 * \n",
            "* 1 4 2 0 7 9 5 0 3 6 * \n",
            "* 8 9 7 8 4 0 7 1 5 4 * \n",
            "* 2 3 0 6 4 6 8 3 0 7 * \n",
            "* 5 9 7 2 7 3 9 7 9 3 * \n",
            "* 8 0 4 3 3 4 3 9 4 0 * \n",
            "* 3 3 0 5 5 4 3 7 8 4 * \n",
            "* 5 9 3 7 6 2 1 7 2 3 * \n",
            "***********************\n"
          ]
        }
      ]
    },
    {
      "cell_type": "markdown",
      "source": [
        "Sum of each row and each column of the matrix"
      ],
      "metadata": {
        "id": "uo3RqQOOxbS-"
      }
    },
    {
      "cell_type": "code",
      "source": [
        "import random\n",
        "SIZE = 10\n",
        "sum=0\n",
        "list=[]\n",
        "superlist=[]\n",
        "for i in range(SIZE):                          # i represents row\n",
        "  for j in range(SIZE):                        # j represents a number in a row\n",
        "    a=random.randint(0,9)                      # generating random numbers (numbers can be any digits from 0 to 9)\n",
        "    list.append(a)                             # values added to list\n",
        "    sum = sum + a                              # storing the sum of all the digits in a row to variable \"sum\"\n",
        "    print(a, end =' ')\n",
        "  print('*', end =' ')\n",
        "  print(sum, end =' ')\n",
        "  print(\"\")\n",
        "  sum=0  \n",
        "    \n",
        "  superlist.append(list)\n",
        "# --------------------------------------------Calculating sum of columns---------------------------\n",
        "sum1=0\n",
        "sum2=0\n",
        "sum3=0\n",
        "sum4=0\n",
        "sum5=0\n",
        "sum6=0\n",
        "sum7=0\n",
        "sum8=0\n",
        "sum9=0\n",
        "sum10=0\n",
        "\n",
        "for k in range(100):                                                  # going through all 100 values in  list\n",
        "    if k%10 == 0:\n",
        "        sum10 = sum10+ list[k]                                        # adding values in column 0\n",
        "    if k%10 == 1:\n",
        "        sum1 = sum1+ list[k]                                          # adding values in column 1\n",
        "    if k%10 == 2:\n",
        "        sum2 = sum2+ list[k]\n",
        "    if k%10 == 3:\n",
        "        sum3 = sum3+ list[k]\n",
        "    if k%10 == 4:\n",
        "        sum4 = sum4+ list[k]\n",
        "    if k%10 == 5:\n",
        "        sum5 = sum5+ list[k]\n",
        "    if k%10 == 6:\n",
        "        sum6 = sum6+ list[k]\n",
        "    if k%10 == 7:\n",
        "        sum7 = sum7+ list[k]    \n",
        "    if k%10 == 8:\n",
        "        sum8 = sum8+ list[k] \n",
        "    if k%10 == 9:\n",
        "        sum9 = sum9+ list[k] \n",
        "  \n",
        "        \n",
        "print (\"* \" \"* \" \"* \" \"* \" \"* \" \"* \" \"* \" \"* \" \"* \" \"* \" )           # printing the bottom asterisk row\n",
        "print (sum10,sum1,sum2,sum3,sum4,sum5,sum6,sum7,sum8,sum9)           # printing sum for all the columns"
      ],
      "metadata": {
        "colab": {
          "base_uri": "https://localhost:8080/"
        },
        "id": "NHJ9EciMS5p1",
        "outputId": "eb2abf7c-c722-4951-f5be-4c522971e564"
      },
      "execution_count": 24,
      "outputs": [
        {
          "output_type": "stream",
          "name": "stdout",
          "text": [
            "9 9 3 5 2 1 5 2 6 7 * 49 \n",
            "2 8 6 4 5 0 5 1 4 0 * 35 \n",
            "6 0 8 3 7 0 2 4 2 4 * 36 \n",
            "7 8 9 4 1 6 1 8 6 0 * 50 \n",
            "3 1 6 1 6 4 0 7 1 6 * 35 \n",
            "4 2 5 0 7 4 0 6 2 7 * 37 \n",
            "0 1 1 6 2 2 2 3 7 7 * 31 \n",
            "2 0 3 5 9 9 5 7 6 6 * 52 \n",
            "7 7 3 6 5 5 0 7 3 5 * 48 \n",
            "2 4 7 1 6 6 5 6 0 0 * 37 \n",
            "* * * * * * * * * * \n",
            "42 40 51 35 50 37 25 51 37 42\n"
          ]
        }
      ]
    }
  ]
}