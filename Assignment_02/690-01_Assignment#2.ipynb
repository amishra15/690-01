{
 "cells": [
  {
   "cell_type": "markdown",
   "id": "62543cf5",
   "metadata": {},
   "source": [
    "Taking Inputs for 10 Integers"
   ]
  },
  {
   "cell_type": "code",
   "execution_count": 5,
   "id": "3513bc65",
   "metadata": {
    "scrolled": true
   },
   "outputs": [
    {
     "name": "stdout",
     "output_type": "stream",
     "text": [
      "Enter an Integer & hit Enter 1\n",
      "Enter an Integer & hit Enter 2\n",
      "Enter an Integer & hit Enter 3\n",
      "Enter an Integer & hit Enter 4\n",
      "Enter an Integer & hit Enter 5.6\n",
      "Only integer is allowed\n",
      "Enter an Integer & hit Enter 5\n",
      "Enter an Integer & hit Enter 6\n",
      "Enter an Integer & hit Enter 7.7\n",
      "Only integer is allowed\n",
      "Enter an Integer & hit Enter 7\n",
      "Enter an Integer & hit Enter 8\n",
      "Enter an Integer & hit Enter 9\n",
      "Enter an Integer & hit Enter 0\n",
      "[1, 2, 3, 4, 5, 6, 7, 8, 9, 0]\n"
     ]
    }
   ],
   "source": [
    "inputs=[]                                                 #initialized empty list\n",
    "\n",
    "i=0\n",
    "while i < 10:                                             #loop to accept 10 integer from user\n",
    "    x=input(\"Enter an Integer & hit Enter \")\n",
    "    if \".\" not in x:                                      #condition to check if number has decimal or not\n",
    "        inputs.append(int(x))                             #converts the input to INT and adds it into the list\n",
    "        i+=1\n",
    "    else:\n",
    "        \n",
    "        print (\"Only integer is allowed\")\n",
    "        i+=0\n",
    "print (inputs)"
   ]
  },
  {
   "cell_type": "markdown",
   "id": "9444a289",
   "metadata": {},
   "source": [
    "Sorting the list in ascending order to determine Maximum and Minimum Value followed by Range"
   ]
  },
  {
   "cell_type": "code",
   "execution_count": 6,
   "id": "2084ee90",
   "metadata": {},
   "outputs": [
    {
     "name": "stdout",
     "output_type": "stream",
     "text": [
      "Minimum Value:  0\n",
      "Maximum Value:  9\n",
      "Range:  9\n"
     ]
    }
   ],
   "source": [
    "for j in range(10):                                       #loop to sort the list in ascending order\n",
    "    for k in range(j+1, 10):\n",
    "        if inputs[j]>inputs[k]:                           #condition to compare values in the list\n",
    "            inputs[j],inputs[k]=inputs[k],inputs[j]       #swapping the values if condition is true\n",
    "            \n",
    "            \n",
    "print (\"Minimum Value: \", inputs[0])  \n",
    "print (\"Maximum Value: \", inputs[9])\n",
    "print(\"Range: \", inputs[9]-inputs[0])"
   ]
  },
  {
   "cell_type": "markdown",
   "id": "0904efd6",
   "metadata": {},
   "source": [
    "Adding all the inputs and dividing by 10 to get Average"
   ]
  },
  {
   "cell_type": "code",
   "execution_count": 7,
   "id": "36848004",
   "metadata": {},
   "outputs": [
    {
     "name": "stdout",
     "output_type": "stream",
     "text": [
      "Mean:  4.5\n"
     ]
    }
   ],
   "source": [
    "sum=0\n",
    "for l in inputs:                                          #loop to calculate sum of all integers\n",
    "    sum=sum+l\n",
    "    \n",
    "average=sum/10  #calculation of mean     \n",
    "print (\"Mean: \", average)    "
   ]
  },
  {
   "cell_type": "markdown",
   "id": "d2c43552",
   "metadata": {},
   "source": [
    "To find Variance,\n",
    "subtract mean from all inputs and sqaure them \n",
    "add all the values and divide by 10 to obtain the Variance\n",
    "Standard Deviation is the sqaure root of Variance"
   ]
  },
  {
   "cell_type": "code",
   "execution_count": 8,
   "id": "f0e0421b",
   "metadata": {},
   "outputs": [
    {
     "name": "stdout",
     "output_type": "stream",
     "text": [
      "Variance:  8.25\n",
      "Standard Deviation:  2.8722813232690143\n"
     ]
    }
   ],
   "source": [
    "summ=0\n",
    "prod=1\n",
    "for m in inputs:                                          #loop to calculate sum for Standard deviation\n",
    "    prod=m-average\n",
    "    summ = summ + (prod*prod)\n",
    "    \n",
    "variance = summ/10                                        #calculation of variance \n",
    "sd = variance ** 0.5                                      #Square rooting variance to get Standard deviation\n",
    "\n",
    "print (\"Variance: \", variance)\n",
    "print(\"Standard Deviation: \", sd)"
   ]
  }
 ],
 "metadata": {
  "kernelspec": {
   "display_name": "Python 3 (ipykernel)",
   "language": "python",
   "name": "python3"
  },
  "language_info": {
   "codemirror_mode": {
    "name": "ipython",
    "version": 3
   },
   "file_extension": ".py",
   "mimetype": "text/x-python",
   "name": "python",
   "nbconvert_exporter": "python",
   "pygments_lexer": "ipython3",
   "version": "3.9.12"
  }
 },
 "nbformat": 4,
 "nbformat_minor": 5
}
